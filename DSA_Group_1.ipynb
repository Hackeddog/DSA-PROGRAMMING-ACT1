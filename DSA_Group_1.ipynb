{
  "nbformat": 4,
  "nbformat_minor": 0,
  "metadata": {
    "colab": {
      "provenance": [],
      "include_colab_link": true
    },
    "kernelspec": {
      "name": "python3",
      "display_name": "Python 3"
    },
    "language_info": {
      "name": "python"
    }
  },
  "cells": [
    {
      "cell_type": "markdown",
      "metadata": {
        "id": "view-in-github",
        "colab_type": "text"
      },
      "source": [
        "<a href=\"https://colab.research.google.com/github/Hackeddog/DSA-PROGRAMMING-ACT1/blob/main/DSA_Group_1.ipynb\" target=\"_parent\"><img src=\"https://colab.research.google.com/assets/colab-badge.svg\" alt=\"Open In Colab\"/></a>"
      ]
    },
    {
      "cell_type": "markdown",
      "source": [
        "#modules"
      ],
      "metadata": {
        "id": "nxYvu8QEGBB7"
      }
    },
    {
      "cell_type": "code",
      "source": [
        "import pandas as pd"
      ],
      "metadata": {
        "id": "i7uW0Fg_F_fy"
      },
      "execution_count": 6,
      "outputs": []
    },
    {
      "cell_type": "markdown",
      "source": [
        "#CODING"
      ],
      "metadata": {
        "id": "A8ZDxSkgGO1s"
      }
    },
    {
      "cell_type": "code",
      "execution_count": null,
      "metadata": {
        "id": "bD8-pwA0hpmQ",
        "colab": {
          "base_uri": "https://localhost:8080/"
        },
        "outputId": "7b14d820-123a-426e-9ee7-933d5c039d29"
      },
      "outputs": [
        {
          "output_type": "stream",
          "name": "stdout",
          "text": [
            "------------------------------------------------------------------------------------------\n",
            "                                  Welcome to our program                                  \n",
            "------------------------------------------------------------------------------------------\n",
            "Enter (1)SORT or (2)SEARCH. 0 to exit: 2\n",
            "------------------------------------------------------------------------------------------\n",
            "Choose a column to search (Glucose, Age, BMI, etc.): age\n",
            "Enter the value to search: 30\n",
            "Choose searching algorithm: \n",
            "(1) Linear Search\n",
            "(2) Binary Search\n",
            "------------------------------------------------------------------------------------------\n",
            "Enter choice: 2\n",
            "Search found at row index 9\n",
            "------------------------------------------------------------------------------------------\n"
          ]
        }
      ],
      "source": [
        "url_dataset = 'https://raw.githubusercontent.com/Hackeddog/DSA-PROGRAMMING-ACT1/refs/heads/main/diabetes.csv'\n",
        "\n",
        "def line(): # to create line\n",
        "  print(f\"{'-':-^90}\")\n",
        "\n",
        "\n",
        "#CREATE CLASS GENERAL (grand parent)--------------------------------------------------------------------------------------\n",
        "'''\n",
        "naa dri ang reading ug writing csv\n",
        "'''\n",
        "class General():\n",
        "  def __init__(self, url_dataset, column):\n",
        "    self.url_dataset = url_dataset\n",
        "    self.column = column\n",
        "    self.df = self.getdataframe()\n",
        "    self.arr = []\n",
        "    self.reading()\n",
        "\n",
        "  def reading(self):\n",
        "    for i in self.df[self.column]:\n",
        "      self.arr.append(i)\n",
        "\n",
        "  def writing(self, data):\n",
        "    data.to_csv('sorted_data.csv', index = False)\n",
        "\n",
        "  def getdataframe(self):\n",
        "    self.df = pd.read_csv(self.url_dataset, encoding = 'unicode_escape')# reading and storing the CSV in a data frame\n",
        "    self.df.columns = self.df.columns.str.upper()#converting the column of the df into capitals\n",
        "    return self.df\n",
        "\n",
        "\n",
        "#CREATE SORTING CLASS (parent)----------------------------------------------------------------------------------------\n",
        "\n",
        "class Sorting(General):\n",
        "  def __init__(self, dataset, column, sorting_type):\n",
        "    super().__init__(dataset, column)\n",
        "    self.sorting_type = sorting_type\n",
        "    self.sorted = self.sort()\n",
        "\n",
        "  def sort(self):\n",
        "    if self.sorting_type == 1:#bubble sort\n",
        "      n = len(self.arr)\n",
        "      for i in range(n):\n",
        "          for j in range(0, n - i - 1):\n",
        "            if self.arr[j] > self.arr[j + 1]:\n",
        "              self.arr[j], self.arr[j + 1] = self.arr[j + 1], self.arr[j]\n",
        "      self.df.sort_values(self.column, ascending=True, inplace = True)\n",
        "      self.writing(self.df)\n",
        "      return self.df\n",
        "\n",
        "    elif self.sorting_type == 2:#selection sort\n",
        "      pass\n",
        "\n",
        "    elif self.sorting_type == 3:#insertion sort\n",
        "      pass\n",
        "\n",
        "    elif self.sorting_type == 4:#quick sort\n",
        "      pass\n",
        "\n",
        "    elif self.sorting_type == 0: #if none\n",
        "      pass\n",
        "\n",
        "\n",
        "\n",
        "#CREATE SEARCHING CLASS (child)------------------------------------------------------------------------------------------\n",
        "\n",
        "\n",
        "class Searching(Sorting):\n",
        "  def __init__(self, url_dataset, column, searching_type, target):\n",
        "    super().__init__(url_dataset,column, 0)\n",
        "    self.target = target\n",
        "    self.searching_type = searching_type\n",
        "    self.result = self.search()\n",
        "\n",
        "  def search(self):\n",
        "    if self.searching_type == 1:#linear search\n",
        "      n = len(self.arr)\n",
        "      for x in range(n):\n",
        "        if self.arr[x] == self.target:\n",
        "          return x\n",
        "      return -1\n",
        "\n",
        "    elif self.searching_type == 2:#binary search\n",
        "      sorting = Sorting(url_dataset, self.column, 1)\n",
        "      self.arr = set(sorting.arr)\n",
        "      self.arr = list(self.arr)\n",
        "      low = 0\n",
        "      high = len(self.arr) - 1\n",
        "      while low <= high:\n",
        "            mid = (low + high) // 2\n",
        "            if self.arr[mid] == self.target:\n",
        "                return mid\n",
        "            elif self.arr[mid] < self.target:\n",
        "                low = mid + 1\n",
        "            else:\n",
        "                high = mid - 1\n",
        "      return -1  # Target not found\n",
        "\n",
        "\n",
        "#CREATE UG MEASURING TIME EXECUTION-------------------------------------------------------------------------------------------\n",
        "\n",
        "'''\n",
        "to be learn pa unsaon ang time library\n",
        "'''\n",
        "\n",
        "\n",
        "\n",
        "#MAIN-------------------------------------------------------------------------\n",
        "\n",
        "def main():\n",
        "  general = General(url_dataset,'AGE')#kaning age dri para lng naay instance\n",
        "  line()\n",
        "  print(f\"{'Welcome to our program':^90}\")\n",
        "  while True:\n",
        "    try:\n",
        "      line()\n",
        "      choice = int(input(\"Enter (1)SORT or (2)SEARCH. 0 to exit: \"))\n",
        "      if choice == 1:\n",
        "          while True:\n",
        "            line()\n",
        "            column = input(\"Choose a column to sort (Glucose, Age, BMI, etc.): \").upper()\n",
        "            if column in general.df.columns:\n",
        "              break\n",
        "            else:\n",
        "              line()\n",
        "              print(\"Invalid column name. Please try again.\")\n",
        "          line()\n",
        "          print(\"Choose sorting algorithm: \\n(1) Bubble Sort\\n(2) Selection Sort\\n(3) Insertion Sort\\n(4) Quick Sort\")\n",
        "          while True:\n",
        "            line()\n",
        "            sorting_type = int(input(\"Enter choice: \"))\n",
        "            if sorting_type in [1, 2, 3, 4]:\n",
        "              break\n",
        "            else:\n",
        "              line()\n",
        "          sorting = Sorting(url_dataset, column, sorting_type)\n",
        "          print(sorting.sorted)\n",
        "\n",
        "      elif choice == 2:\n",
        "          while True:\n",
        "            line()\n",
        "            column = input(\"Choose a column to search (Glucose, Age, BMI, etc.): \").upper()\n",
        "            if column in general.df.columns:\n",
        "              break\n",
        "            else:\n",
        "              line()\n",
        "              print(\"Invalid column name. Please try again.\")\n",
        "          target = int(input(\"Enter the value to search: \"))\n",
        "          print(\"Choose searching algorithm: \\n(1) Linear Search\\n(2) Binary Search\")\n",
        "          while True:\n",
        "            line()\n",
        "            searching_type = int(input(\"Enter choice: \"))\n",
        "            if searching_type in [1, 2]:\n",
        "              break\n",
        "            else:\n",
        "              line()\n",
        "              print(\"Invalid choice. Please enter 1 or 2.\")\n",
        "          searching = Searching(url_dataset, column, searching_type, target)\n",
        "          if searching.result == -1:\n",
        "            print(\"Search not found.\")\n",
        "          else:\n",
        "            print(f\"Search found at row index {searching.result}\")\n",
        "      elif choice == 0:\n",
        "          break\n",
        "      else:\n",
        "          print(\"Invalid choice. Please enter 1 or 2 and 0 for exit.\")\n",
        "    except ValueError:\n",
        "      line()\n",
        "      print(\"Invalid input. Please enter a number.\")\n",
        "\n",
        "\n",
        "\n",
        "main()#commencing program\n",
        "\n"
      ]
    },
    {
      "cell_type": "code",
      "source": [
        "\n"
      ],
      "metadata": {
        "id": "hT38g8xZZPpO"
      },
      "execution_count": null,
      "outputs": []
    }
  ]
}