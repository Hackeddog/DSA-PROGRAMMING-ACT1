{
  "nbformat": 4,
  "nbformat_minor": 0,
  "metadata": {
    "colab": {
      "provenance": [],
      "include_colab_link": true
    },
    "kernelspec": {
      "name": "python3",
      "display_name": "Python 3"
    },
    "language_info": {
      "name": "python"
    }
  },
  "cells": [
    {
      "cell_type": "markdown",
      "metadata": {
        "id": "view-in-github",
        "colab_type": "text"
      },
      "source": [
        "<a href=\"https://colab.research.google.com/github/Hackeddog/DSA-PROGRAMMING-ACT1/blob/main/DSA_Group_1.ipynb\" target=\"_parent\"><img src=\"https://colab.research.google.com/assets/colab-badge.svg\" alt=\"Open In Colab\"/></a>"
      ]
    },
    {
      "cell_type": "markdown",
      "source": [
        "#modules"
      ],
      "metadata": {
        "id": "nxYvu8QEGBB7"
      }
    },
    {
      "cell_type": "code",
      "source": [
        "import pandas as pd"
      ],
      "metadata": {
        "id": "i7uW0Fg_F_fy"
      },
      "execution_count": 1,
      "outputs": []
    },
    {
      "cell_type": "markdown",
      "source": [
        "#CODING"
      ],
      "metadata": {
        "id": "A8ZDxSkgGO1s"
      }
    },
    {
      "cell_type": "code",
      "execution_count": 6,
      "metadata": {
        "id": "bD8-pwA0hpmQ",
        "colab": {
          "base_uri": "https://localhost:8080/"
        },
        "outputId": "c5a9b1e5-e5ef-4640-94ba-dee84d7d3352"
      },
      "outputs": [
        {
          "name": "stdout",
          "output_type": "stream",
          "text": [
            "Enter 1 to sort or 2 to search 0 to exit: ds\n",
            "Invalid input. Please enter a number.\n",
            "Enter 1 to sort or 2 to search 0 to exit: 1\n",
            "sort\n",
            "Enter 1 to sort or 2 to search 0 to exit: 0\n"
          ]
        }
      ],
      "source": [
        "url_dataset = 'https://raw.githubusercontent.com/Hackeddog/DSA-PROGRAMMING-ACT1/refs/heads/main/diabetes.csv'\n",
        "\n",
        "\n",
        "#CREATE CLASS GENERAL (grand parent)\n",
        "'''\n",
        "naa dri ang reading ug writing csv\n",
        "'''\n",
        "class General():\n",
        "  def __init__(self, dataset): # reading and storing the csv in a data frame\n",
        "    self.df = pd.read_csv(dataset, encoding = 'unicode_escape')\n",
        "\n",
        "  def writing(self):\n",
        "    pass\n",
        "\n",
        "  def getattr(self):\n",
        "    return self.df\n",
        "\n",
        "\n",
        "#CREATE SORTING CLASS (parent)\n",
        "\n",
        "'''\n",
        "dri ang sorting methods tapos inherit niya ang general para ma access ang data na i sort\n",
        "'''\n",
        "\n",
        "#CREATE SEARCHING CLASS (child)\n",
        "\n",
        "'''\n",
        "\n",
        "dri kay mga searching methods tapos i inherit sd nya and sorting kay after sya mag search execute dayun nya unsay type of sorting\n",
        "ug sa binary search which requires sorting first before searching\n",
        "\n",
        "'''\n",
        "\n",
        "#CREATE UG MEASURING TIME EXECUTION\n",
        "\n",
        "'''\n",
        "to be learn pa unsaon ang time module\n",
        "'''\n",
        "\n",
        "\n",
        "\n",
        "#MAIN\n",
        "\n",
        "def main():\n",
        "  general = General(url_dataset)\n",
        "  while True:\n",
        "    try:\n",
        "      choice = int(input(\"Enter 1 to sort or 2 to search 0 to exit: \"))\n",
        "      if choice == 1:\n",
        "          print('sort')# sorting start\n",
        "\n",
        "      elif choice == 2:\n",
        "          print('search')#searching start\n",
        "\n",
        "      elif choice == 0:\n",
        "          break\n",
        "      else:\n",
        "          print(\"Invalid choice. Please enter 1 or 2.\")\n",
        "    except ValueError:\n",
        "      print(\"Invalid input. Please enter a number.\")\n",
        "\n",
        "\n",
        "\n",
        "main()#commencing program\n",
        "\n"
      ]
    },
    {
      "cell_type": "code",
      "source": [
        "\n"
      ],
      "metadata": {
        "id": "hT38g8xZZPpO"
      },
      "execution_count": null,
      "outputs": []
    }
  ]
}