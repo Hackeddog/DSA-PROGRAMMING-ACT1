{
  "nbformat": 4,
  "nbformat_minor": 0,
  "metadata": {
    "colab": {
      "provenance": [],
      "include_colab_link": true
    },
    "kernelspec": {
      "name": "python3",
      "display_name": "Python 3"
    },
    "language_info": {
      "name": "python"
    }
  },
  "cells": [
    {
      "cell_type": "markdown",
      "metadata": {
        "id": "view-in-github",
        "colab_type": "text"
      },
      "source": [
        "<a href=\"https://colab.research.google.com/github/Hackeddog/DSA-PROGRAMMING-ACT1/blob/main/DSA_Group_1.ipynb\" target=\"_parent\"><img src=\"https://colab.research.google.com/assets/colab-badge.svg\" alt=\"Open In Colab\"/></a>"
      ]
    },
    {
      "cell_type": "markdown",
      "source": [
        "#modules"
      ],
      "metadata": {
        "id": "nxYvu8QEGBB7"
      }
    },
    {
      "cell_type": "code",
      "source": [
        "import pandas as pd"
      ],
      "metadata": {
        "id": "i7uW0Fg_F_fy"
      },
      "execution_count": 2,
      "outputs": []
    },
    {
      "cell_type": "markdown",
      "source": [
        "#CODING"
      ],
      "metadata": {
        "id": "A8ZDxSkgGO1s"
      }
    },
    {
      "cell_type": "code",
      "execution_count": null,
      "metadata": {
        "id": "bD8-pwA0hpmQ",
        "colab": {
          "base_uri": "https://localhost:8080/"
        },
        "outputId": "29a4af51-60d0-438a-8d3b-0d1bec9ef7d0"
      },
      "outputs": [
        {
          "output_type": "stream",
          "name": "stdout",
          "text": [
            "------------------------------------------------------------------------------------------\n",
            "                                  Welcome to our program                                  \n",
            "------------------------------------------------------------------------------------------\n",
            "Enter (1)SORT or (2)SEARCH. 0 to exit: 1\n",
            "Choose a column to sort (Glucose, Age, BMI, etc.): age\n",
            "Choose sorting algorithm: \n",
            "(1) Bubble Sort\n",
            "(2) Selection Sort\n",
            "(3) Insertion Sort\n",
            "(4) Quick Sort\n",
            "Enter choice: 1\n",
            "     PREGNANCIES  GLUCOSE  BLOODPRESSURE  SKINTHICKNESS  INSULIN   BMI  \\\n",
            "255            1      113             64             35        0  33.6   \n",
            "60             2       84              0              0        0   0.0   \n",
            "102            0      125             96              0        0  22.5   \n",
            "182            1        0             74             20       23  27.7   \n",
            "623            0       94             70             27      115  43.5   \n",
            "..           ...      ...            ...            ...      ...   ...   \n",
            "123            5      132             80              0        0  26.8   \n",
            "684            5      136             82              0        0   0.0   \n",
            "666            4      145             82             18        0  32.5   \n",
            "453            2      119              0              0        0  19.6   \n",
            "459            9      134             74             33       60  25.9   \n",
            "\n",
            "     DIABETESPEDIGREEFUNCTION  AGE  OUTCOME  \n",
            "255                     0.543   21        1  \n",
            "60                      0.304   21        0  \n",
            "102                     0.262   21        0  \n",
            "182                     0.299   21        0  \n",
            "623                     0.347   21        0  \n",
            "..                        ...  ...      ...  \n",
            "123                     0.186   69        0  \n",
            "684                     0.640   69        0  \n",
            "666                     0.235   70        1  \n",
            "453                     0.832   72        0  \n",
            "459                     0.460   81        0  \n",
            "\n",
            "[768 rows x 9 columns]\n",
            "------------------------------------------------------------------------------------------\n"
          ]
        }
      ],
      "source": [
        "url_dataset = 'https://raw.githubusercontent.com/Hackeddog/DSA-PROGRAMMING-ACT1/refs/heads/main/diabetes.csv'\n",
        "\n",
        "def line(): # to create line\n",
        "  print(f\"{'-':-^90}\")\n",
        "\n",
        "\n",
        "#CREATE CLASS GENERAL (grand parent)--------------------------------------------------------------------------------------\n",
        "'''\n",
        "naa dri ang reading ug writing csv\n",
        "'''\n",
        "class General():\n",
        "  def __init__(self, dataset, column):\n",
        "    self.dataset = dataset\n",
        "    self.column = column\n",
        "    self.df = self.getdataframe()\n",
        "    self.arr = []\n",
        "    self.reading()\n",
        "\n",
        "  def reading(self):\n",
        "    for i in self.df[self.column]:\n",
        "      self.arr.append(i)\n",
        "\n",
        "  def writing(self, data):\n",
        "    data.to_csv('sorted_data.csv', index = False)\n",
        "\n",
        "  def getdataframe(self):\n",
        "    self.df = pd.read_csv(self.dataset, encoding = 'unicode_escape')# reading and storing the CSV in a data frame\n",
        "    self.df.columns = self.df.columns.str.upper()#converting the column of the df into capitals\n",
        "    return self.df\n",
        "\n",
        "\n",
        "#CREATE SORTING CLASS (parent)----------------------------------------------------------------------------------------\n",
        "'''\n",
        "naa dri ang mga sorting functions\n",
        "'''\n",
        "class Sorting(General):\n",
        "  def __init__(self, dataset, column, sorting_type):\n",
        "    super().__init__(dataset, column)\n",
        "    self.sorting_type = sorting_type\n",
        "    self.sorted = self.sort()\n",
        "\n",
        "  def sort(self):\n",
        "    if self.sorting_type == 1:#bubble sort\n",
        "      n = len(self.arr)\n",
        "      for i in range(n):\n",
        "          for j in range(0, n - i - 1):\n",
        "            if self.arr[j] > self.arr[j + 1]:\n",
        "              self.arr[j], self.arr[j + 1] = self.arr[j + 1], self.arr[j]\n",
        "      self.df.sort_values(self.column, ascending=True, inplace = True)\n",
        "      self.writing(self.df)\n",
        "      return self.df\n",
        "\n",
        "    elif self.sorting_type == 2:#selection sort\n",
        "      pass\n",
        "\n",
        "    elif self.sorting_type == 3:#insertion sort\n",
        "      pass\n",
        "\n",
        "    elif self.sorting_type == 4:#quick sort\n",
        "      pass\n",
        "\n",
        "\n",
        "\n",
        "#CREATE SEARCHING CLASS (child)------------------------------------------------------------------------------------------\n",
        "\n",
        "'''\n",
        "\n",
        "dri kay mga searching methods tapos i inherit sd nya and sorting kay after sya mag search execute dayun nya unsay type of sorting\n",
        "ug sa binary search which requires sorting first before searching\n",
        "\n",
        "'''\n",
        "class Searching(Sorting):\n",
        "  def __init__(self, dataset, column, searching_type):\n",
        "    super().__init__(dataset)\n",
        "    self.column = column\n",
        "    self.searching_type = searching_type\n",
        "    self.df = self.getdataframe()\n",
        "\n",
        "#CREATE UG MEASURING TIME EXECUTION-------------------------------------------------------------------------------------------\n",
        "\n",
        "'''\n",
        "to be learn pa unsaon ang time library\n",
        "'''\n",
        "\n",
        "\n",
        "\n",
        "#MAIN-------------------------------------------------------------------------\n",
        "\n",
        "def main():\n",
        "  line()\n",
        "  print(f\"{'Welcome to our program':^90}\")\n",
        "  while True:\n",
        "    try:\n",
        "      line()\n",
        "      choice = int(input(\"Enter (1)SORT or (2)SEARCH. 0 to exit: \"))\n",
        "      if choice == 1:\n",
        "          column = input(\"Choose a column to sort (Glucose, Age, BMI, etc.): \").upper()\n",
        "          print(\"Choose sorting algorithm: \\n(1) Bubble Sort\\n(2) Selection Sort\\n(3) Insertion Sort\\n(4) Quick Sort\")\n",
        "          sorting_type = int(input(\"Enter choice: \"))\n",
        "          sorting = Sorting(url_dataset, column, sorting_type)\n",
        "          print(sorting.sorted)\n",
        "\n",
        "      elif choice == 2:\n",
        "          print('search')#searching start\n",
        "\n",
        "      elif choice == 0:\n",
        "          break\n",
        "      else:\n",
        "          print(\"Invalid choice. Please enter 1 or 2 and 0 for exit.\")\n",
        "    except ValueError:\n",
        "      line()\n",
        "      print(\"Invalid input. Please enter a number.\")\n",
        "\n",
        "\n",
        "\n",
        "main()#commencing program\n",
        "\n"
      ]
    },
    {
      "cell_type": "code",
      "source": [
        "\n"
      ],
      "metadata": {
        "id": "hT38g8xZZPpO"
      },
      "execution_count": null,
      "outputs": []
    }
  ]
}