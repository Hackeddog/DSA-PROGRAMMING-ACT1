{
  "nbformat": 4,
  "nbformat_minor": 0,
  "metadata": {
    "colab": {
      "provenance": [],
      "include_colab_link": true
    },
    "kernelspec": {
      "name": "python3",
      "display_name": "Python 3"
    },
    "language_info": {
      "name": "python"
    }
  },
  "cells": [
    {
      "cell_type": "markdown",
      "metadata": {
        "id": "view-in-github",
        "colab_type": "text"
      },
      "source": [
        "<a href=\"https://colab.research.google.com/github/Hackeddog/DSA-PROGRAMMING-ACT1/blob/main/DSA_Group_1.ipynb\" target=\"_parent\"><img src=\"https://colab.research.google.com/assets/colab-badge.svg\" alt=\"Open In Colab\"/></a>"
      ]
    },
    {
      "cell_type": "markdown",
      "source": [
        "#modules"
      ],
      "metadata": {
        "id": "nxYvu8QEGBB7"
      }
    },
    {
      "cell_type": "code",
      "source": [
        "import pandas as pd"
      ],
      "metadata": {
        "id": "i7uW0Fg_F_fy"
      },
      "execution_count": 1,
      "outputs": []
    },
    {
      "cell_type": "markdown",
      "source": [
        "#CODING"
      ],
      "metadata": {
        "id": "A8ZDxSkgGO1s"
      }
    },
    {
      "cell_type": "code",
      "execution_count": 23,
      "metadata": {
        "id": "bD8-pwA0hpmQ",
        "colab": {
          "base_uri": "https://localhost:8080/",
          "height": 1000
        },
        "outputId": "fbac6be1-a6a5-48de-96ed-2991c15edd86"
      },
      "outputs": [
        {
          "output_type": "stream",
          "name": "stdout",
          "text": [
            "------------------------------------------------------------------------------------------\n",
            "                                  Welcome to our program                                  \n",
            "------------------------------------------------------------------------------------------\n",
            "Enter (1)SORT or (2)SEARCH. 0 to exit: 1\n",
            "Choose a column to sort (Glucose, Age, BMI, etc.): \n",
            "Choose sorting algorithm: \n",
            "(1) Bubble Sort\n",
            "(2) Selection Sort\n",
            "(3) Insertion Sort\n",
            "(4) Quick Sort\n",
            "Enter choice: 1\n",
            "     Pregnancies  Glucose  BloodPressure  SkinThickness  Insulin   BMI  \\\n",
            "0              6      148             72             35        0  33.6   \n",
            "1              1       85             66             29        0  26.6   \n",
            "2              8      183             64              0        0  23.3   \n",
            "3              1       89             66             23       94  28.1   \n",
            "4              0      137             40             35      168  43.1   \n",
            "..           ...      ...            ...            ...      ...   ...   \n",
            "763           10      101             76             48      180  32.9   \n",
            "764            2      122             70             27        0  36.8   \n",
            "765            5      121             72             23      112  26.2   \n",
            "766            1      126             60              0        0  30.1   \n",
            "767            1       93             70             31        0  30.4   \n",
            "\n",
            "     DiabetesPedigreeFunction  Age  Outcome  \n",
            "0                       0.627   50        1  \n",
            "1                       0.351   31        0  \n",
            "2                       0.672   32        1  \n",
            "3                       0.167   21        0  \n",
            "4                       2.288   33        1  \n",
            "..                        ...  ...      ...  \n",
            "763                     0.171   63        0  \n",
            "764                     0.340   27        0  \n",
            "765                     0.245   30        0  \n",
            "766                     0.349   47        1  \n",
            "767                     0.315   23        0  \n",
            "\n",
            "[768 rows x 9 columns]\n",
            "------------------------------------------------------------------------------------------\n"
          ]
        },
        {
          "output_type": "error",
          "ename": "KeyboardInterrupt",
          "evalue": "Interrupted by user",
          "traceback": [
            "\u001b[0;31m---------------------------------------------------------------------------\u001b[0m",
            "\u001b[0;31mKeyboardInterrupt\u001b[0m                         Traceback (most recent call last)",
            "\u001b[0;32m<ipython-input-23-45d59024318f>\u001b[0m in \u001b[0;36m<cell line: 0>\u001b[0;34m()\u001b[0m\n\u001b[1;32m    104\u001b[0m \u001b[0;34m\u001b[0m\u001b[0m\n\u001b[1;32m    105\u001b[0m \u001b[0;34m\u001b[0m\u001b[0m\n\u001b[0;32m--> 106\u001b[0;31m \u001b[0mmain\u001b[0m\u001b[0;34m(\u001b[0m\u001b[0;34m)\u001b[0m\u001b[0;31m#commencing program\u001b[0m\u001b[0;34m\u001b[0m\u001b[0;34m\u001b[0m\u001b[0m\n\u001b[0m\u001b[1;32m    107\u001b[0m \u001b[0;34m\u001b[0m\u001b[0m\n",
            "\u001b[0;32m<ipython-input-23-45d59024318f>\u001b[0m in \u001b[0;36mmain\u001b[0;34m()\u001b[0m\n\u001b[1;32m     83\u001b[0m     \u001b[0;32mtry\u001b[0m\u001b[0;34m:\u001b[0m\u001b[0;34m\u001b[0m\u001b[0;34m\u001b[0m\u001b[0m\n\u001b[1;32m     84\u001b[0m       \u001b[0mline\u001b[0m\u001b[0;34m(\u001b[0m\u001b[0;34m)\u001b[0m\u001b[0;34m\u001b[0m\u001b[0;34m\u001b[0m\u001b[0m\n\u001b[0;32m---> 85\u001b[0;31m       \u001b[0mchoice\u001b[0m \u001b[0;34m=\u001b[0m \u001b[0mint\u001b[0m\u001b[0;34m(\u001b[0m\u001b[0minput\u001b[0m\u001b[0;34m(\u001b[0m\u001b[0;34m\"Enter (1)SORT or (2)SEARCH. 0 to exit: \"\u001b[0m\u001b[0;34m)\u001b[0m\u001b[0;34m)\u001b[0m\u001b[0;34m\u001b[0m\u001b[0;34m\u001b[0m\u001b[0m\n\u001b[0m\u001b[1;32m     86\u001b[0m       \u001b[0;32mif\u001b[0m \u001b[0mchoice\u001b[0m \u001b[0;34m==\u001b[0m \u001b[0;36m1\u001b[0m\u001b[0;34m:\u001b[0m\u001b[0;34m\u001b[0m\u001b[0;34m\u001b[0m\u001b[0m\n\u001b[1;32m     87\u001b[0m           \u001b[0mcolumn\u001b[0m \u001b[0;34m=\u001b[0m \u001b[0mprint\u001b[0m\u001b[0;34m(\u001b[0m\u001b[0;34m\"Choose a column to sort (Glucose, Age, BMI, etc.): \"\u001b[0m\u001b[0;34m)\u001b[0m\u001b[0;34m\u001b[0m\u001b[0;34m\u001b[0m\u001b[0m\n",
            "\u001b[0;32m/usr/local/lib/python3.11/dist-packages/ipykernel/kernelbase.py\u001b[0m in \u001b[0;36mraw_input\u001b[0;34m(self, prompt)\u001b[0m\n\u001b[1;32m   1175\u001b[0m                 \u001b[0;34m\"raw_input was called, but this frontend does not support input requests.\"\u001b[0m\u001b[0;34m\u001b[0m\u001b[0;34m\u001b[0m\u001b[0m\n\u001b[1;32m   1176\u001b[0m             )\n\u001b[0;32m-> 1177\u001b[0;31m         return self._input_request(\n\u001b[0m\u001b[1;32m   1178\u001b[0m             \u001b[0mstr\u001b[0m\u001b[0;34m(\u001b[0m\u001b[0mprompt\u001b[0m\u001b[0;34m)\u001b[0m\u001b[0;34m,\u001b[0m\u001b[0;34m\u001b[0m\u001b[0;34m\u001b[0m\u001b[0m\n\u001b[1;32m   1179\u001b[0m             \u001b[0mself\u001b[0m\u001b[0;34m.\u001b[0m\u001b[0m_parent_ident\u001b[0m\u001b[0;34m[\u001b[0m\u001b[0;34m\"shell\"\u001b[0m\u001b[0;34m]\u001b[0m\u001b[0;34m,\u001b[0m\u001b[0;34m\u001b[0m\u001b[0;34m\u001b[0m\u001b[0m\n",
            "\u001b[0;32m/usr/local/lib/python3.11/dist-packages/ipykernel/kernelbase.py\u001b[0m in \u001b[0;36m_input_request\u001b[0;34m(self, prompt, ident, parent, password)\u001b[0m\n\u001b[1;32m   1217\u001b[0m             \u001b[0;32mexcept\u001b[0m \u001b[0mKeyboardInterrupt\u001b[0m\u001b[0;34m:\u001b[0m\u001b[0;34m\u001b[0m\u001b[0;34m\u001b[0m\u001b[0m\n\u001b[1;32m   1218\u001b[0m                 \u001b[0;31m# re-raise KeyboardInterrupt, to truncate traceback\u001b[0m\u001b[0;34m\u001b[0m\u001b[0;34m\u001b[0m\u001b[0m\n\u001b[0;32m-> 1219\u001b[0;31m                 \u001b[0;32mraise\u001b[0m \u001b[0mKeyboardInterrupt\u001b[0m\u001b[0;34m(\u001b[0m\u001b[0;34m\"Interrupted by user\"\u001b[0m\u001b[0;34m)\u001b[0m \u001b[0;32mfrom\u001b[0m \u001b[0;32mNone\u001b[0m\u001b[0;34m\u001b[0m\u001b[0;34m\u001b[0m\u001b[0m\n\u001b[0m\u001b[1;32m   1220\u001b[0m             \u001b[0;32mexcept\u001b[0m \u001b[0mException\u001b[0m\u001b[0;34m:\u001b[0m\u001b[0;34m\u001b[0m\u001b[0;34m\u001b[0m\u001b[0m\n\u001b[1;32m   1221\u001b[0m                 \u001b[0mself\u001b[0m\u001b[0;34m.\u001b[0m\u001b[0mlog\u001b[0m\u001b[0;34m.\u001b[0m\u001b[0mwarning\u001b[0m\u001b[0;34m(\u001b[0m\u001b[0;34m\"Invalid Message:\"\u001b[0m\u001b[0;34m,\u001b[0m \u001b[0mexc_info\u001b[0m\u001b[0;34m=\u001b[0m\u001b[0;32mTrue\u001b[0m\u001b[0;34m)\u001b[0m\u001b[0;34m\u001b[0m\u001b[0;34m\u001b[0m\u001b[0m\n",
            "\u001b[0;31mKeyboardInterrupt\u001b[0m: Interrupted by user"
          ]
        }
      ],
      "source": [
        "url_dataset = 'https://raw.githubusercontent.com/Hackeddog/DSA-PROGRAMMING-ACT1/refs/heads/main/diabetes.csv'\n",
        "\n",
        "def line(): # to create line\n",
        "  print(f\"{'-':-^90}\")\n",
        "\n",
        "\n",
        "#CREATE CLASS GENERAL (grand parent)--------------------------------------------------------------------------------------\n",
        "'''\n",
        "naa dri ang reading ug writing csv\n",
        "'''\n",
        "class General():\n",
        "  def __init__(self, dataset, column):\n",
        "    self.dataset = dataset\n",
        "    self.column = column\n",
        "    self.df = self.getdataframe()\n",
        "\n",
        "  def reading(self):\n",
        "    pass\n",
        "\n",
        "  def writing(self, data):\n",
        "    data.to_csv('sorted_data.csv', index = False)\n",
        "\n",
        "  def getdataframe(self):\n",
        "    self.df = pd.read_csv(self.dataset, encoding = 'unicode_escape')# reading and storing the CSV in a data frame\n",
        "    return self.df\n",
        "\n",
        "\n",
        "#CREATE SORTING CLASS (parent)----------------------------------------------------------------------------------------\n",
        "'''\n",
        "naa dri ang mga sorting functions\n",
        "'''\n",
        "class Sorting(General):\n",
        "  def __init__(self, dataset, column, sorting_type):\n",
        "    super().__init__(dataset, column)\n",
        "    self.sorting_type = sorting_type\n",
        "    self.sorted = self.sort()\n",
        "#so dri gamiton nya ang df(dataframe) para i sort na sya\n",
        "  def sort(self):\n",
        "    if self.sorting_type == 1:#bubble sort\n",
        "      return self.df\n",
        "\n",
        "    elif self.sorting_type == 2:#selection sort\n",
        "      pass\n",
        "\n",
        "    elif self.sorting_type == 3:#insertion sort\n",
        "      pass\n",
        "\n",
        "    elif self.sorting_type == 4:#quick sort\n",
        "      pass\n",
        "\n",
        "\n",
        "\n",
        "#CREATE SEARCHING CLASS (child)------------------------------------------------------------------------------------------\n",
        "\n",
        "'''\n",
        "\n",
        "dri kay mga searching methods tapos i inherit sd nya and sorting kay after sya mag search execute dayun nya unsay type of sorting\n",
        "ug sa binary search which requires sorting first before searching\n",
        "\n",
        "'''\n",
        "class Searching(Sorting):\n",
        "  def __init__(self, dataset, column, searching_type):\n",
        "    super().__init__(dataset)\n",
        "    self.column = column\n",
        "    self.searching_type = searching_type\n",
        "    self.df = self.getdataframe()\n",
        "\n",
        "#CREATE UG MEASURING TIME EXECUTION-------------------------------------------------------------------------------------------\n",
        "\n",
        "'''\n",
        "to be learn pa unsaon ang time library\n",
        "'''\n",
        "\n",
        "\n",
        "\n",
        "#MAIN-------------------------------------------------------------------------\n",
        "\n",
        "def main():\n",
        "  line()\n",
        "  print(f\"{'Welcome to our program':^90}\")\n",
        "  while True:\n",
        "    try:\n",
        "      line()\n",
        "      choice = int(input(\"Enter (1)SORT or (2)SEARCH. 0 to exit: \"))\n",
        "      if choice == 1:\n",
        "          column = print(\"Choose a column to sort (Glucose, Age, BMI, etc.): \")\n",
        "          print(\"Choose sorting algorithm: \\n(1) Bubble Sort\\n(2) Selection Sort\\n(3) Insertion Sort\\n(4) Quick Sort\")\n",
        "          sorting_type = int(input(\"Enter choice: \"))\n",
        "          sorting = Sorting(url_dataset, column, sorting_type)\n",
        "          print(sorting.sorted)\n",
        "\n",
        "      elif choice == 2:\n",
        "          print('search')#searching start\n",
        "\n",
        "      elif choice == 0:\n",
        "          break\n",
        "      else:\n",
        "          print(\"Invalid choice. Please enter 1 or 2 and 0 for exit.\")\n",
        "    except ValueError:\n",
        "      line()\n",
        "      print(\"Invalid input. Please enter a number.\")\n",
        "\n",
        "\n",
        "\n",
        "main()#commencing program\n",
        "\n"
      ]
    },
    {
      "cell_type": "code",
      "source": [
        "\n"
      ],
      "metadata": {
        "id": "hT38g8xZZPpO"
      },
      "execution_count": null,
      "outputs": []
    }
  ]
}