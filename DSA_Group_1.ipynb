{
  "nbformat": 4,
  "nbformat_minor": 0,
  "metadata": {
    "colab": {
      "provenance": [],
      "include_colab_link": true
    },
    "kernelspec": {
      "name": "python3",
      "display_name": "Python 3"
    },
    "language_info": {
      "name": "python"
    }
  },
  "cells": [
    {
      "cell_type": "markdown",
      "metadata": {
        "id": "view-in-github",
        "colab_type": "text"
      },
      "source": [
        "<a href=\"https://colab.research.google.com/github/Hackeddog/DSA-PROGRAMMING-ACT1/blob/main/DSA_Group_1.ipynb\" target=\"_parent\"><img src=\"https://colab.research.google.com/assets/colab-badge.svg\" alt=\"Open In Colab\"/></a>"
      ]
    },
    {
      "cell_type": "markdown",
      "source": [
        "#modules"
      ],
      "metadata": {
        "id": "nxYvu8QEGBB7"
      }
    },
    {
      "cell_type": "code",
      "source": [
        "import pandas as pd"
      ],
      "metadata": {
        "id": "i7uW0Fg_F_fy"
      },
      "execution_count": 1,
      "outputs": []
    },
    {
      "cell_type": "markdown",
      "source": [
        "#CODING"
      ],
      "metadata": {
        "id": "A8ZDxSkgGO1s"
      }
    },
    {
      "cell_type": "code",
      "execution_count": null,
      "metadata": {
        "id": "bD8-pwA0hpmQ"
      },
      "outputs": [],
      "source": [
        "#CREATE CLASS GENERAL (grand parent)\n",
        "\n",
        "'''\n",
        "naa dri ang reading ug writing csv\n",
        "'''\n",
        "\n",
        "#CREATE SORTING CLASS (parent)\n",
        "\n",
        "'''\n",
        "dri ang sorting methods tapos inherit niya ang general para ma access ang data na i sort\n",
        "'''\n",
        "\n",
        "#CREATE SEARCHING CLASS (child)\n",
        "\n",
        "'''\n",
        "\n",
        "dri kay mga searching methods tapos i inherit sd nya and sorting kay after sya mag search execute dayun nya unsay type of sorting\n",
        "ug sa binary search which requires sorting first before searching\n",
        "\n",
        "'''\n",
        "\n",
        "#CREATE UG MEASURING TIME EXECUTION\n",
        "\n",
        "'''\n",
        "to be learn pa unsaon ang time module\n",
        "'''\n",
        "\n",
        "\n",
        "\n",
        "#MAIN\n",
        "\n",
        "def main():\n",
        "  pass\n",
        "\n",
        "\n",
        "\n",
        "\n",
        "\n",
        "main()#commencing program\n",
        "\n"
      ]
    }
  ]
}