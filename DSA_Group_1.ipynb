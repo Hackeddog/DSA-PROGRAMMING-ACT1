{
  "nbformat": 4,
  "nbformat_minor": 0,
  "metadata": {
    "colab": {
      "provenance": [],
      "include_colab_link": true
    },
    "kernelspec": {
      "name": "python3",
      "display_name": "Python 3"
    },
    "language_info": {
      "name": "python"
    }
  },
  "cells": [
    {
      "cell_type": "markdown",
      "metadata": {
        "id": "view-in-github",
        "colab_type": "text"
      },
      "source": [
        "<a href=\"https://colab.research.google.com/github/Hackeddog/DSA-PROGRAMMING-ACT1/blob/main/DSA_Group_1.ipynb\" target=\"_parent\"><img src=\"https://colab.research.google.com/assets/colab-badge.svg\" alt=\"Open In Colab\"/></a>"
      ]
    },
    {
      "cell_type": "markdown",
      "source": [
        "# Run all"
      ],
      "metadata": {
        "id": "cJO-XaqyFTK8"
      }
    },
    {
      "cell_type": "markdown",
      "source": [
        "## run this first"
      ],
      "metadata": {
        "id": "nxYvu8QEGBB7"
      }
    },
    {
      "cell_type": "markdown",
      "source": [
        "### modules"
      ],
      "metadata": {
        "id": "uFwO2F77kjYD"
      }
    },
    {
      "cell_type": "code",
      "source": [
        "import os\n",
        "import time\n",
        "import git\n",
        "import pandas as pd\n",
        "from google.colab import userdata\n",
        "#make sure to input the token before running\n"
      ],
      "metadata": {
        "id": "i7uW0Fg_F_fy"
      },
      "execution_count": 267,
      "outputs": []
    },
    {
      "cell_type": "markdown",
      "source": [
        "###FOR COMMIT AND PUSH"
      ],
      "metadata": {
        "id": "vBPhgMC2fXNo"
      }
    },
    {
      "cell_type": "code",
      "source": [
        "!rm -rf /content/DSA-PROGRAMMING-ACT1\n",
        "%cd /content"
      ],
      "metadata": {
        "colab": {
          "base_uri": "https://localhost:8080/"
        },
        "id": "feSwVqb5BhwQ",
        "outputId": "85c2febe-acca-4922-f669-05d53c3b531d"
      },
      "execution_count": 268,
      "outputs": [
        {
          "output_type": "stream",
          "name": "stdout",
          "text": [
            "/content\n"
          ]
        }
      ]
    },
    {
      "cell_type": "code",
      "source": [
        "!git config --global user.email \"mekowlamsin@gmail.com\"\n",
        "!git config --global user.name \"Hackeddog\""
      ],
      "metadata": {
        "id": "J4gDYDyaBygb"
      },
      "execution_count": 261,
      "outputs": []
    },
    {
      "cell_type": "code",
      "source": [
        "username = \"Hackedog\"\n",
        "token = ''#input the token here\n",
        "repo_name = \"DSA-PROGRAMMING-ACT1\""
      ],
      "metadata": {
        "id": "-7mj5toj-Qcj"
      },
      "execution_count": 262,
      "outputs": []
    },
    {
      "cell_type": "code",
      "source": [
        "repo_dir = \"/content/DSA-PROGRAMMING-ACT1\"\n",
        "\n",
        "if not os.path.exists(repo_dir):\n",
        "  !git clone https://{token}@github.com/Hackeddog/DSA-PROGRAMMING-ACT1\n",
        "  %cd DSA-PROGRAMMING-ACT1\n",
        "else:\n",
        "  print(\"Repository already exists locally. Skipping clone.\")\n",
        "  %cd DSA-PROGRAMMING-ACT1"
      ],
      "metadata": {
        "colab": {
          "base_uri": "https://localhost:8080/"
        },
        "id": "RIS6CUEf_qVn",
        "outputId": "f7d4de86-683f-470b-c320-e74cec06341c"
      },
      "execution_count": 263,
      "outputs": [
        {
          "output_type": "stream",
          "name": "stdout",
          "text": [
            "Cloning into 'DSA-PROGRAMMING-ACT1'...\n",
            "remote: Enumerating objects: 183, done.\u001b[K\n",
            "remote: Counting objects: 100% (53/53), done.\u001b[K\n",
            "remote: Compressing objects: 100% (48/48), done.\u001b[K\n",
            "remote: Total 183 (delta 26), reused 17 (delta 5), pack-reused 130 (from 1)\u001b[K\n",
            "Receiving objects: 100% (183/183), 80.69 KiB | 2.99 MiB/s, done.\n",
            "Resolving deltas: 100% (67/67), done.\n",
            "/content/DSA-PROGRAMMING-ACT1\n"
          ]
        }
      ]
    },
    {
      "cell_type": "code",
      "source": [
        "def commit(m):\n",
        "  !git add .\n",
        "  !git commit -m \"$m\"\n",
        "  !git remote -v\n",
        "  !git push origin main"
      ],
      "metadata": {
        "id": "XbSaUOLUGr5D"
      },
      "execution_count": 266,
      "outputs": []
    },
    {
      "cell_type": "markdown",
      "source": [
        "## code"
      ],
      "metadata": {
        "id": "A8ZDxSkgGO1s"
      }
    },
    {
      "cell_type": "code",
      "execution_count": 269,
      "metadata": {
        "id": "bD8-pwA0hpmQ",
        "colab": {
          "base_uri": "https://localhost:8080/"
        },
        "outputId": "888e8699-7eb2-40a0-f7a1-ed60a99fb4d3"
      },
      "outputs": [
        {
          "name": "stdout",
          "output_type": "stream",
          "text": [
            "------------------------------------------------------------------------------------------\n",
            "                                  Welcome to our program                                  \n",
            "------------------------------------------------------------------------------------------\n",
            "Enter (1) - SORT or (2) - SEARCH. Enter (0) to exit: 0\n"
          ]
        }
      ],
      "source": [
        "url_dataset = 'https://raw.githubusercontent.com/Hackeddog/DSA-PROGRAMMING-ACT1/refs/heads/main/diabetes.csv'\n",
        "\n",
        "def line(): # to create line\n",
        "  print(f\"{'-':-^90}\")\n",
        "\n",
        "\n",
        "#CREATE CLASS GENERAL (grandparent)--------------------------------------------------------------------------------------\n",
        "'''\n",
        "naa dri ang reading ug writing csv\n",
        "'''\n",
        "class General():\n",
        "  def __init__(self, dataset, column):\n",
        "    self.dataset = dataset\n",
        "    self.column = column\n",
        "    self.df = self.getdataframe()\n",
        "    self.arr = []\n",
        "    self.reading()\n",
        "\n",
        "  def reading(self):\n",
        "    for i in self.df[self.column]:\n",
        "      self.arr.append(i)\n",
        "\n",
        "  def writing(self, data):\n",
        "       # Specify the file path and name\n",
        "       file_path = 'sorted_data.csv'\n",
        "       # Use to_csv to write the DataFrame to a CSV file\n",
        "       data.to_csv(file_path, index=False)  # index=False to avoid writing row index\n",
        "       !mv /content/sorted_data.csv /content/DSA-PROGRAMMING-ACT1\n",
        "       commit(file_path)\n",
        "       print(f\"Sorted data written to {file_path}\")\n",
        "\n",
        "\n",
        "\n",
        "  def getdataframe(self):\n",
        "    self.df = pd.read_csv(self.dataset, encoding = 'unicode_escape')# reading and storing the CSV in a data frame\n",
        "    self.df.columns = self.df.columns.str.upper()#converting the column of the df into capitals\n",
        "    return self.df\n",
        "\n",
        "\n",
        "#CREATE SORTING CLASS (parent)----------------------------------------------------------------------------------------\n",
        "'''\n",
        "naa dri ang mga sorting functions\n",
        "'''\n",
        "class Sorting(General):\n",
        "  def __init__(self, dataset, column, sorting_type):\n",
        "\n",
        "    super().__init__(dataset, column)\n",
        "    self.sorting_type = sorting_type\n",
        "    self.sorted, self.exec_time = time_execution(self.sort)\n",
        "\n",
        "  def sort(self):\n",
        "    if self.sorting_type == 1:#bubble sort\n",
        "      n = len(self.arr)\n",
        "      for i in range(n):\n",
        "          for j in range(0, n - i - 1):\n",
        "            if self.arr[j] > self.arr[j + 1]:\n",
        "              self.arr[j], self.arr[j + 1] = self.arr[j + 1], self.arr[j]\n",
        "      self.df.sort_values(self.column, ascending=True, inplace = True)\n",
        "      self.writing(self.df)\n",
        "      commit('bubble sort')\n",
        "\n",
        "\n",
        "    elif self.sorting_type == 2:#selection sort\n",
        "      n = len(self.arr)\n",
        "      for i in range(n):\n",
        "          min_idx = i\n",
        "          for j in range(i+1, n):\n",
        "              if self.arr[j] < self.arr[min_idx]:\n",
        "                  min_idx = j\n",
        "          self.arr[i], self.arr[min_idx] = self.arr[min_idx], self.arr[i]\n",
        "      self.df.sort_values(self.column, ascending=True, inplace = True)\n",
        "      self.writing(self.df)\n",
        "      commit('selection sort')\n",
        "\n",
        "\n",
        "\n",
        "\n",
        "    elif self.sorting_type == 3:#insertion sort\n",
        "      n = len(self.arr)\n",
        "      for i in range(1, n):\n",
        "          key = self.arr[i]\n",
        "          j = i-1\n",
        "          while j >= 0 and self.arr[j] > key:\n",
        "              self.arr[j + 1] = self.arr[j]\n",
        "              j -= 1\n",
        "          self.arr[j + 1] = key\n",
        "      self.df.sort_values(self.column, ascending=True, inplace = True)\n",
        "      self.writing(self.df)\n",
        "      commit('insertion sort')\n",
        "\n",
        "\n",
        "\n",
        "    elif self.sorting_type == 4:#quick sort\n",
        "\n",
        "      def quickSort(arr):\n",
        "        if len(arr) <= 1:\n",
        "            return arr\n",
        "\n",
        "        pivot = arr[len(arr) // 2]\n",
        "\n",
        "        left = []\n",
        "        middle = []\n",
        "        right = []\n",
        "\n",
        "        for x in arr:\n",
        "            if x < pivot:\n",
        "                left.append(x)\n",
        "            elif x == pivot:\n",
        "                middle.append(x)\n",
        "            elif x > pivot:\n",
        "                right.append(x)\n",
        "\n",
        "        return quickSort(left) + middle + quickSort(right)\n",
        "\n",
        "      self.arr = quickSort(self.arr)\n",
        "      self.df.sort_values(self.column, ascending=True, inplace = True)\n",
        "      self.writing(self.df)\n",
        "      commit('quick sort')\n",
        "\n",
        "\n",
        "\n",
        "#CREATE SEARCHING CLASS (child)------------------------------------------------------------------------------------------\n",
        "\n",
        "\n",
        "class Searching(Sorting):\n",
        "  def __init__(self, url_dataset, column, searching_type, target):\n",
        "    super().__init__(url_dataset,column,sorting_type=0)\n",
        "    self.target = target\n",
        "    self.searching_type = searching_type\n",
        "    self.result, self.exec_time = time_execution(self.search)\n",
        "\n",
        "  def search(self):\n",
        "    if self.searching_type == 1:#linear search\n",
        "      n = len(self.arr)\n",
        "      for x in range(n):\n",
        "        if self.arr[x] == self.target:\n",
        "          return x\n",
        "      return -1 # Target not found\n",
        "\n",
        "    elif self.searching_type == 2:#binary search\n",
        "      super().__init__(url_dataset, column = self.column, sorting_type = 4)\n",
        "      print(f'Sorting \"{self.column}\" column before Binary Search...')\n",
        "      low = 0\n",
        "      high = len(self.arr) - 1\n",
        "      while low <= high:\n",
        "            mid = (low + high) // 2\n",
        "            if self.arr[mid] == self.target:\n",
        "                for idx, val in enumerate(self.arr):\n",
        "                    if val == self.target:\n",
        "                        return idx\n",
        "            elif self.arr[mid] < self.target:\n",
        "                low = mid + 1\n",
        "            else:\n",
        "                high = mid - 1\n",
        "      return -1  # Target not found\n",
        "\n",
        "#CREATE UG MEASURING TIME EXECUTION-------------------------------------------------------------------------------------------\n",
        "\n",
        "def time_execution(func):\n",
        "    start_time = time.time()\n",
        "    result = func()\n",
        "    end_time = time.time()\n",
        "    return result, end_time - start_time\n",
        "\n",
        "#MAIN-------------------------------------------------------------------------\n",
        "\n",
        "def main():\n",
        "  sorting_type_names = {\n",
        "    1: \"Bubble Sort\",\n",
        "    2: \"Selection Sort\",\n",
        "    3: \"Insertion Sort\",\n",
        "    4: \"Quick Sort\"\n",
        "  }\n",
        "  searching_type_names = {\n",
        "    1: \"Linear Search\",\n",
        "    2: \"Binary Search\"\n",
        "  }\n",
        "\n",
        "\n",
        "  line()\n",
        "  general = General(url_dataset,'AGE')#kaning age dri para lng naay instance\n",
        "  print(f\"{'Welcome to our program':^90}\")\n",
        "  while True:\n",
        "    try:\n",
        "      line()\n",
        "      choice = int(input(\"Enter (1) - SORT or (2) - SEARCH. Enter (0) to exit: \"))\n",
        "      if choice == 1:\n",
        "          while True:\n",
        "            line()\n",
        "            column = input(\"Choose a column to sort (Glucose, Age, BMI, etc.): \").upper()\n",
        "            if column in general.df.columns:\n",
        "              break\n",
        "            else:\n",
        "              line()\n",
        "              print(\"Invalid column name. Please try again.\")\n",
        "          line()\n",
        "          print(\"Choose sorting algorithm: \\n(1) Bubble Sort\\n(2) Selection Sort\\n(3) Insertion Sort\\n(4) Quick Sort\")\n",
        "          while True:\n",
        "            line()\n",
        "            try:\n",
        "              sorting_type = int(input(\"Enter choice: \"))\n",
        "              if sorting_type in [1, 2, 3, 4]:\n",
        "                break\n",
        "              else:\n",
        "                line()\n",
        "                print(\"Invalid choice. Please enter 1, 2, 3, or 4.\")\n",
        "            except ValueError:\n",
        "              line()\n",
        "              print(\"Invalid input. Please enter a number.\")\n",
        "\n",
        "          sorting = Sorting(url_dataset, column, sorting_type)\n",
        "          line()\n",
        "          print(f'Sorting by \"{column}\" using {sorting_type_names[sorting_type]}')\n",
        "          print(f'Time taken: {sorting.exec_time:.6f} seconds')\n",
        "\n",
        "      elif choice == 2:\n",
        "\n",
        "          while True:\n",
        "            line()\n",
        "            column = input(\"Choose a column to search (Glucose, Age, BMI, etc.): \").upper()\n",
        "            if column in general.df.columns:\n",
        "              break\n",
        "            else:\n",
        "              line()\n",
        "              print(\"Invalid column name. Please try again.\")\n",
        "\n",
        "          target = int(input(\"Enter the value to search: \"))\n",
        "          line()\n",
        "          print(\"Choose searching algorithm: \\n(1) Linear Search\\n(2) Binary Search\")\n",
        "\n",
        "          while True:\n",
        "            line()\n",
        "            try:\n",
        "              searching_type = int(input(\"Enter choice: \"))\n",
        "              if searching_type in [1, 2]:\n",
        "                break\n",
        "              else:\n",
        "                line()\n",
        "                print(\"Invalid choice. Please enter 1 or 2.\")\n",
        "            except ValueError:\n",
        "              line()\n",
        "              print(\"Invalid input. Please enter a number.\")\n",
        "          searching = Searching(url_dataset, column, searching_type, target)\n",
        "          line()\n",
        "          print(f'Searching for \"{target}\" in \"{column}\" using {searching_type_names[searching_type]}')\n",
        "\n",
        "          if searching.result == -1:\n",
        "            line()\n",
        "            print(\"Search not found.\")\n",
        "          else:\n",
        "            line()\n",
        "            print(f\"Search found at row index {searching.result}\")\n",
        "          print(f'Time taken: {searching.exec_time:.6f} seconds')\n",
        "\n",
        "      elif choice == 0:\n",
        "          break\n",
        "      else:\n",
        "          print(\"Invalid choice. Please enter 1 or 2 and 0 for exit.\")\n",
        "    except ValueError:\n",
        "      line()\n",
        "      print(\"Invalid input. Please enter a number.\")\n",
        "\n",
        "\n",
        "\n",
        "main()#commencing program\n",
        "\n"
      ]
    }
  ]
}